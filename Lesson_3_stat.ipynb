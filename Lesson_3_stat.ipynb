{
 "cells": [
  {
   "cell_type": "code",
   "execution_count": 1,
   "id": "35905cac",
   "metadata": {},
   "outputs": [],
   "source": [
    "import numpy as np"
   ]
  },
  {
   "cell_type": "code",
   "execution_count": 2,
   "id": "e8289f0a",
   "metadata": {},
   "outputs": [],
   "source": [
    "from math import factorial as fl\n"
   ]
  },
  {
   "cell_type": "code",
   "execution_count": 3,
   "id": "f307539b",
   "metadata": {},
   "outputs": [],
   "source": [
    "def combinations(k, n):\n",
    "    return fl(n) / (fl(k) * fl(n - k))"
   ]
  },
  {
   "cell_type": "code",
   "execution_count": 4,
   "id": "e7be1238",
   "metadata": {},
   "outputs": [],
   "source": [
    "salaries = np.array([100, 80, 75, 77, 89, 33, 45, 25, 65, 17, 30, 24, 57, 55, 70, 75, 65, 84, 90, 150])"
   ]
  },
  {
   "cell_type": "markdown",
   "id": "930eb912",
   "metadata": {},
   "source": [
    "Cреднее арифметическое"
   ]
  },
  {
   "cell_type": "code",
   "execution_count": 5,
   "id": "3a291df7",
   "metadata": {},
   "outputs": [],
   "source": [
    "salaries_mean = salaries.sum() / salaries.size"
   ]
  },
  {
   "cell_type": "markdown",
   "id": "47173c38",
   "metadata": {},
   "source": [
    "Cреднее квадратичное отклонение"
   ]
  },
  {
   "cell_type": "code",
   "execution_count": 6,
   "id": "c234019e",
   "metadata": {},
   "outputs": [
    {
     "data": {
      "text/plain": [
       "30.823854398825596"
      ]
     },
     "execution_count": 6,
     "metadata": {},
     "output_type": "execute_result"
    }
   ],
   "source": [
    "(np.sum((salaries - salaries_mean)**2) / salaries.size)**0.5"
   ]
  },
  {
   "cell_type": "markdown",
   "id": "e7fcdad9",
   "metadata": {},
   "source": [
    "Cмещенная дисперсия"
   ]
  },
  {
   "cell_type": "code",
   "execution_count": 7,
   "id": "493a1207",
   "metadata": {},
   "outputs": [
    {
     "data": {
      "text/plain": [
       "950.11"
      ]
     },
     "execution_count": 7,
     "metadata": {},
     "output_type": "execute_result"
    }
   ],
   "source": [
    "np.sum((salaries - salaries_mean)**2) / salaries.size"
   ]
  },
  {
   "cell_type": "markdown",
   "id": "84885245",
   "metadata": {},
   "source": [
    "Несмещенная дисперсия"
   ]
  },
  {
   "cell_type": "code",
   "execution_count": 8,
   "id": "53f90222",
   "metadata": {},
   "outputs": [
    {
     "data": {
      "text/plain": [
       "1000.1157894736842"
      ]
     },
     "execution_count": 8,
     "metadata": {},
     "output_type": "execute_result"
    }
   ],
   "source": [
    "np.sum((salaries - salaries_mean)**2) / (salaries.size - 1)"
   ]
  },
  {
   "cell_type": "code",
   "execution_count": null,
   "id": "b912c404",
   "metadata": {},
   "outputs": [],
   "source": []
  }
 ],
 "metadata": {
  "kernelspec": {
   "display_name": "Python 3 (ipykernel)",
   "language": "python",
   "name": "python3"
  },
  "language_info": {
   "codemirror_mode": {
    "name": "ipython",
    "version": 3
   },
   "file_extension": ".py",
   "mimetype": "text/x-python",
   "name": "python",
   "nbconvert_exporter": "python",
   "pygments_lexer": "ipython3",
   "version": "3.9.5"
  }
 },
 "nbformat": 4,
 "nbformat_minor": 5
}
